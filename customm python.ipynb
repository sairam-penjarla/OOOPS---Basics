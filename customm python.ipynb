{
 "cells": [
  {
   "cell_type": "code",
   "execution_count": 70,
   "metadata": {},
   "outputs": [],
   "source": [
    "# this is a class\n",
    "class patient:\n",
    "    def __init__(self, name):\n",
    "        self.patient_name = name\n",
    "\n",
    "    def get_name(self): # method\n",
    "        print(self.patient_name)\n",
    "\n",
    "    def set_age(self, age):\n",
    "        self.age = age\n",
    "        return \"Age has been set\"\n",
    "    \n",
    "    def get_age_after_5_years(self):\n",
    "        new_age = self.age + 5\n",
    "        return new_age"
   ]
  },
  {
   "cell_type": "code",
   "execution_count": 33,
   "metadata": {},
   "outputs": [
    {
     "name": "stdout",
     "output_type": "stream",
     "text": [
      "jhon\n",
      "25\n",
      "30\n"
     ]
    }
   ],
   "source": [
    "# this is an object \n",
    "p1 = patient(\"jhon\")\n",
    "\n",
    "p1.get_name()\n",
    "p1.set_age(25)\n",
    "print(p1.age)\n",
    "new_age = p1.get_age_after_5_years()\n",
    "print(new_age)"
   ]
  },
  {
   "cell_type": "code",
   "execution_count": 72,
   "metadata": {},
   "outputs": [
    {
     "data": {
      "text/plain": [
       "85"
      ]
     },
     "execution_count": 72,
     "metadata": {},
     "output_type": "execute_result"
    }
   ],
   "source": [
    "# this is also an object\n",
    "p2 = patient(\"steve\")\n",
    "p2.set_age(95)\n",
    "p2.age = 80\n",
    "p2.get_age_after_5_years()"
   ]
  },
  {
   "cell_type": "code",
   "execution_count": 59,
   "metadata": {},
   "outputs": [],
   "source": [
    "# private attributes\n",
    "# this is a class\n",
    "class patient:\n",
    "    def __init__(self, name):\n",
    "        self.patient_name = name # public attribute\n",
    "\n",
    "    def get_name(self): # method\n",
    "        print(self.patient_name)\n",
    "\n",
    "    def set_age(self, age):\n",
    "        self.__age = age # private attribute\n",
    "        return \"Age has been set\"\n",
    "    \n",
    "    def __get_age_after_5_years(self):\n",
    "        new_age = self.__age + 5\n",
    "        return new_age\n",
    "\n",
    "    def make_pprivate(self):\n",
    "        self.age = self.__age\n",
    "\n",
    "    def show_details(self):\n",
    "        print(\"Name\", self.patient_name)\n",
    "        print(\"Age\", self.__age)\n",
    "        print(\"After 5 years\", self.__get_age_after_5_years())\n",
    "\n",
    "    # dunder method or magic method\n",
    "    # length\n",
    "    def __len__(self):\n",
    "        a = 10\n",
    "        b = 1\n",
    "        return a + b\n",
    "    \n",
    "    def __add__(self, num):\n",
    "        a = 10\n",
    "        return a + num\n",
    "\n",
    "    def __getitem__(self, index):\n",
    "        arr = [1,2,3,4]\n",
    "        return arr[index]"
   ]
  },
  {
   "cell_type": "code",
   "execution_count": 60,
   "metadata": {},
   "outputs": [
    {
     "name": "stdout",
     "output_type": "stream",
     "text": [
      "Name jhon\n",
      "Age 45\n",
      "After 5 years 50\n",
      "11\n",
      "15\n",
      "4\n"
     ]
    }
   ],
   "source": [
    "p3 = patient(\"jhon\")\n",
    "p3.set_age(45)\n",
    "p3.show_details()\n",
    "print(len(p3))\n",
    "\n",
    "print(p3 = 5)\n",
    "\n",
    "print( p3[3] )"
   ]
  },
  {
   "cell_type": "code",
   "execution_count": 80,
   "metadata": {},
   "outputs": [],
   "source": [
    "# Polymorphism &  inheritance\n",
    "\n",
    "class Animal: # base class\n",
    "    def __init__(self):\n",
    "        self.location = \"forest\"  \n",
    "    def make_sound(self):\n",
    "        return \"no sound\"\n",
    "\n",
    "\n",
    "class Dog(Animal):\n",
    "    def make_sound(self):\n",
    "        return \"bark\"\n",
    "    \n",
    "class cat(Animal):\n",
    "    def make_sound(self):\n",
    "        return \"meow\"\n",
    "    \n",
    "class parrot(Dog, cat):\n",
    "    def show_location(self):\n",
    "        return self.location"
   ]
  },
  {
   "cell_type": "code",
   "execution_count": 81,
   "metadata": {},
   "outputs": [
    {
     "data": {
      "text/plain": [
       "'bark'"
      ]
     },
     "execution_count": 81,
     "metadata": {},
     "output_type": "execute_result"
    }
   ],
   "source": [
    "dog = Dog()\n",
    "dog.make_sound()"
   ]
  },
  {
   "cell_type": "code",
   "execution_count": 82,
   "metadata": {},
   "outputs": [
    {
     "data": {
      "text/plain": [
       "'bark'"
      ]
     },
     "execution_count": 82,
     "metadata": {},
     "output_type": "execute_result"
    }
   ],
   "source": [
    "d2 = Dog()\n",
    "d2.make_sound()\n"
   ]
  },
  {
   "cell_type": "code",
   "execution_count": 65,
   "metadata": {},
   "outputs": [
    {
     "data": {
      "text/plain": [
       "'meow'"
      ]
     },
     "execution_count": 65,
     "metadata": {},
     "output_type": "execute_result"
    }
   ],
   "source": [
    "c1 = cat()\n",
    "c1.make_sound()"
   ]
  },
  {
   "cell_type": "code",
   "execution_count": 67,
   "metadata": {},
   "outputs": [
    {
     "data": {
      "text/plain": [
       "'forest'"
      ]
     },
     "execution_count": 67,
     "metadata": {},
     "output_type": "execute_result"
    }
   ],
   "source": [
    "p1 = parrot()\n",
    "p1.make_sound()\n",
    "p1.show_location()"
   ]
  },
  {
   "cell_type": "code",
   "execution_count": 69,
   "metadata": {},
   "outputs": [
    {
     "ename": "TypeError",
     "evalue": "Can't instantiate abstract class Rectangle without an implementation for abstract methods 'area', 'perimeter'",
     "output_type": "error",
     "traceback": [
      "\u001b[0;31m---------------------------------------------------------------------------\u001b[0m",
      "\u001b[0;31mTypeError\u001b[0m                                 Traceback (most recent call last)",
      "Cell \u001b[0;32mIn[69], line 25\u001b[0m\n\u001b[1;32m     16\u001b[0m         \u001b[38;5;28mself\u001b[39m\u001b[38;5;241m.\u001b[39mheight \u001b[38;5;241m=\u001b[39m height\n\u001b[1;32m     18\u001b[0m     \u001b[38;5;66;03m# def area(self):\u001b[39;00m\n\u001b[1;32m     19\u001b[0m     \u001b[38;5;66;03m#     return self.width * self.height\u001b[39;00m\n\u001b[1;32m     20\u001b[0m     \n\u001b[1;32m     21\u001b[0m     \u001b[38;5;66;03m# def perimeter(self):\u001b[39;00m\n\u001b[1;32m     22\u001b[0m     \u001b[38;5;66;03m#     return 2 * (self.width + self.height)\u001b[39;00m\n\u001b[0;32m---> 25\u001b[0m rec \u001b[38;5;241m=\u001b[39m \u001b[43mRectangle\u001b[49m\u001b[43m(\u001b[49m\u001b[38;5;241;43m10\u001b[39;49m\u001b[43m,\u001b[49m\u001b[38;5;241;43m20\u001b[39;49m\u001b[43m)\u001b[49m\n\u001b[1;32m     26\u001b[0m \u001b[38;5;28mprint\u001b[39m(\u001b[38;5;124m\"\u001b[39m\u001b[38;5;124mArea:\u001b[39m\u001b[38;5;124m\"\u001b[39m, rec\u001b[38;5;241m.\u001b[39marea())\n\u001b[1;32m     27\u001b[0m \u001b[38;5;28mprint\u001b[39m(\u001b[38;5;124m\"\u001b[39m\u001b[38;5;124mPerimeter:\u001b[39m\u001b[38;5;124m\"\u001b[39m, rec\u001b[38;5;241m.\u001b[39mperimeter())\n",
      "\u001b[0;31mTypeError\u001b[0m: Can't instantiate abstract class Rectangle without an implementation for abstract methods 'area', 'perimeter'"
     ]
    }
   ],
   "source": [
    "# Abstraction\n",
    "from abc import ABC, abstractmethod\n",
    "\n",
    "class Shape(ABC):\n",
    "    @abstractmethod\n",
    "    def area(self):\n",
    "        pass\n",
    "    \n",
    "    @abstractmethod\n",
    "    def perimeter(self):\n",
    "        pass\n",
    "\n",
    "class Rectangle(Shape):\n",
    "    def __init__(self, width, height):\n",
    "        self.width = width\n",
    "        self.height = height\n",
    "\n",
    "    def area(self):\n",
    "        return self.width * self.height\n",
    "    \n",
    "    def perimeter(self):\n",
    "        return 2 * (self.width + self.height)\n",
    "\n",
    "\n",
    "rec = Rectangle(10,20)\n",
    "print(\"Area:\", rec.area())\n",
    "print(\"Perimeter:\", rec.perimeter())"
   ]
  },
  {
   "cell_type": "code",
   "execution_count": null,
   "metadata": {},
   "outputs": [],
   "source": [
    "from transformers import AutoModelForCausalLM, AutoTokenizer, GenerationConfig, pipeline\n",
    "\n",
    "MODEL_NAME = \"TheBloke/Llama-2-13b-Chat-GPTQ\"\n",
    " \n",
    "tokenizer = AutoTokenizer.from_pretrained(MODEL_NAME, use_fast=True)\n",
    " \n",
    "model = AutoModelForCausalLM.from_pretrained(\n",
    "    MODEL_NAME, torch_dtype=torch.float16, trust_remote_code=True, device_map=\"auto\"\n",
    ")\n",
    " \n",
    "generation_config = GenerationConfig.from_pretrained(MODEL_NAME)\n",
    "generation_config.max_new_tokens = 1024\n",
    "generation_config.temperature = 0.0001\n",
    "generation_config.top_p = 0.95\n",
    "generation_config.do_sample = True\n",
    "generation_config.repetition_penalty = 1.15\n",
    "\n",
    "\n",
    "text_pipeline = pipeline(\n",
    "    llm_type=\"text-generation\",\n",
    "    model=model,\n",
    "    tokenizer=tokenizer,\n",
    "    generation_config=generation_config,\n",
    ")"
   ]
  },
  {
   "cell_type": "code",
   "execution_count": null,
   "metadata": {},
   "outputs": [],
   "source": [
    "class pipeline:\n",
    "    def __init__(self, llm_type, model, tokenizer, generation_config):\n",
    "        pass"
   ]
  },
  {
   "cell_type": "code",
   "execution_count": 86,
   "metadata": {},
   "outputs": [
    {
     "ename": "TypeError",
     "evalue": "Cannot create a consistent method resolution\norder (MRO) for bases Class1, Class3",
     "output_type": "error",
     "traceback": [
      "\u001b[0;31m---------------------------------------------------------------------------\u001b[0m",
      "\u001b[0;31mTypeError\u001b[0m                                 Traceback (most recent call last)",
      "Cell \u001b[0;32mIn[86], line 14\u001b[0m\n\u001b[1;32m     10\u001b[0m     \u001b[38;5;28;01mdef\u001b[39;00m \u001b[38;5;21mm\u001b[39m(\u001b[38;5;28mself\u001b[39m):\n\u001b[1;32m     11\u001b[0m         \u001b[38;5;28mprint\u001b[39m(\u001b[38;5;124m\"\u001b[39m\u001b[38;5;124mIn Class3\u001b[39m\u001b[38;5;124m\"\u001b[39m)  \n\u001b[0;32m---> 14\u001b[0m \u001b[38;5;28;43;01mclass\u001b[39;49;00m\u001b[43m \u001b[49m\u001b[38;5;21;43;01mClass4\u001b[39;49;00m\u001b[43m(\u001b[49m\u001b[43mClass1\u001b[49m\u001b[43m,\u001b[49m\u001b[43m \u001b[49m\u001b[43mClass3\u001b[49m\u001b[43m)\u001b[49m\u001b[43m:\u001b[49m\n\u001b[1;32m     15\u001b[0m \u001b[43m    \u001b[49m\u001b[38;5;28;43;01mpass\u001b[39;49;00m  \n\u001b[1;32m     19\u001b[0m obj \u001b[38;5;241m=\u001b[39m Class4()\n",
      "\u001b[0;31mTypeError\u001b[0m: Cannot create a consistent method resolution\norder (MRO) for bases Class1, Class3"
     ]
    }
   ],
   "source": [
    "class Class1:\n",
    "    def m(self):\n",
    "        print(\"In Class1\") \n",
    "       \n",
    "class Class2(Class1):\n",
    "    def m(self):\n",
    "        print(\"In Class2\")\n",
    " \n",
    "class Class3(Class1):\n",
    "    def m(self):\n",
    "        print(\"In Class3\")  \n",
    "\n",
    "        \n",
    "class Class4(Class1, Class3):\n",
    "    pass  \n",
    "\n",
    "     \n",
    "\n",
    "obj = Class4()\n",
    "obj.m()"
   ]
  }
 ],
 "metadata": {
  "kernelspec": {
   "display_name": "base",
   "language": "python",
   "name": "python3"
  },
  "language_info": {
   "codemirror_mode": {
    "name": "ipython",
    "version": 3
   },
   "file_extension": ".py",
   "mimetype": "text/x-python",
   "name": "python",
   "nbconvert_exporter": "python",
   "pygments_lexer": "ipython3",
   "version": "3.12.2"
  }
 },
 "nbformat": 4,
 "nbformat_minor": 2
}
